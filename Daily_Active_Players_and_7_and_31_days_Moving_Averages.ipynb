{
  "nbformat": 4,
  "nbformat_minor": 0,
  "metadata": {
    "colab": {
      "private_outputs": true,
      "provenance": [],
      "authorship_tag": "ABX9TyNB11Ryr831470fS7RZatta",
      "include_colab_link": true
    },
    "kernelspec": {
      "name": "python3",
      "display_name": "Python 3"
    },
    "language_info": {
      "name": "python"
    }
  },
  "cells": [
    {
      "cell_type": "markdown",
      "metadata": {
        "id": "view-in-github",
        "colab_type": "text"
      },
      "source": [
        "<a href=\"https://colab.research.google.com/github/zoran-data/colab_notebooks/blob/main/Daily_Active_Players_and_7_and_31_days_Moving_Averages.ipynb\" target=\"_parent\"><img src=\"https://colab.research.google.com/assets/colab-badge.svg\" alt=\"Open In Colab\"/></a>"
      ]
    },
    {
      "cell_type": "code",
      "execution_count": null,
      "metadata": {
        "id": "vj974YHHJLto"
      },
      "outputs": [],
      "source": [
        "import matplotlib.pyplot as plt\n",
        "import numpy as np\n",
        "import pandas as pd\n",
        "\n",
        "# Generate dummy data for the entire year of 2024\n",
        "dates = pd.date_range(start='2024-01-01', end='2024-02-29')\n",
        "\n",
        "# Generate dummy data for active players for each day\n",
        "active_players = np.random.randint(100, 10000, size=len(dates))\n",
        "\n",
        "# Calculate moving averages\n",
        "moving_average_7 = np.convolve(active_players, np.ones(7) / 7, mode='full')[:len(active_players)]\n",
        "moving_average_31 = np.convolve(active_players, np.ones(31) / 31, mode='full')[:len(active_players)]\n",
        "\n",
        "# Plotting\n",
        "plt.figure(figsize=(14, 8))\n",
        "\n",
        "# Plot daily active players\n",
        "plt.plot(dates, active_players, label='Daily Active Players', marker='o')\n",
        "\n",
        "# Plot 7-day moving average\n",
        "plt.plot(dates, moving_average_7, label='7-Day Moving Avg', linestyle='--', color='orange')\n",
        "\n",
        "# Plot 31-day moving average\n",
        "plt.plot(dates, moving_average_31, label='31-Day Moving Avg', linestyle='-.', color='green')\n",
        "\n",
        "# Add labels and title\n",
        "plt.xlabel('Date')\n",
        "plt.ylabel('Number of Players')\n",
        "plt.title('Daily Active Players and Moving Averages (February 2024)')\n",
        "plt.grid(True)\n",
        "plt.legend()\n",
        "plt.xlim(pd.Timestamp('2024-02-01'), pd.Timestamp('2024-02-29'))  # Limit x-axis to February\n",
        "plt.xticks(rotation=45)  # Rotate x-axis labels for better readability\n",
        "plt.tight_layout()\n",
        "\n",
        "# Show plot\n",
        "plt.show()\n"
      ]
    }
  ]
}